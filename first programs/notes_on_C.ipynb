{
 "cells": [
  {
   "cell_type": "markdown",
   "id": "06dfb75c",
   "metadata": {},
   "source": [
    "<div style=\"text-align: center;\">\n",
    "    <h1>C Programming Language</h1>\n",
    "</div>"
   ]
  },
  {
   "cell_type": "markdown",
   "id": "977493d4",
   "metadata": {},
   "source": [
    "`C` is a general-purpose programming language created by **Dennic Ritchie** at the Bell Laboratories in 1972. Despite being old, it is very powerful and pouplar language; it has been used to develop operating systems, databases, applications, etc.\n",
    "\n",
    "The main reason for its popularity is because it is a fundamental language in the field of computer science.\n",
    "\n",
    "C is strongly associated with UNIX, as it was developed to write the UNIX operating system."
   ]
  },
  {
   "cell_type": "markdown",
   "id": "ac2a2c36",
   "metadata": {},
   "source": [
    "### Difference between C and C++\n",
    "\n",
    "- The main difference between C and C++ is that C++ supports classes and objects, while C does not."
   ]
  },
  {
   "cell_type": "markdown",
   "id": "37dd6e9f",
   "metadata": {},
   "source": [
    "### First C program\n",
    "\n",
    "```c\n",
    "\n",
    "#include <stdio.h>\n",
    "\n",
    "int main(void){\n",
    "    printf(\"hello, world!\\n\");\n",
    "    return 0;    \n",
    "}\n",
    "```\n",
    "\n",
    "in this provided code `\\n`character is used to create a new line."
   ]
  },
  {
   "cell_type": "markdown",
   "id": "288e5c70",
   "metadata": {},
   "source": [
    "### Comments in C\n",
    "\n",
    "`//` this double slash provides single line comments\n",
    "\n",
    "to acces Multi-line comments `/*--------*/` anything in between here will be marked as Multi-line comments. "
   ]
  },
  {
   "cell_type": "markdown",
   "id": "004ddba2",
   "metadata": {},
   "source": [
    "### C Variables\n",
    "\n",
    "Variables = container, to contain or store data values, like nums and characters. \n",
    "\n",
    "- `int` - stores integers (whole numbers), without decimels. ex: `123` or `-256`\n",
    "\n",
    "- `float` - stores floating point numbers, with decimels. Ex: `19.99` or `-19.99`\n",
    "\n",
    "- `char` - stores single characters `'a'` or `'B'`"
   ]
  },
  {
   "cell_type": "markdown",
   "id": "64462f8e",
   "metadata": {},
   "source": [
    "### Basic Data types \n",
    "\n",
    "| Data Type | Size         | Description                                                                 | Example |\n",
    "|-----------|--------------|------------------------------------------------------------------------------|---------|\n",
    "| int       | 2 or 4 bytes | Stores whole numbers, without decimals                                      | 1       |\n",
    "| float     | 4 bytes      | Stores fractional numbers, containing one or more decimals. Sufficient for storing 6-7 decimal digits | 1.99    |\n",
    "| double    | 8 bytes      | Stores fractional numbers, containing one or more decimals. Sufficient for storing 15 decimal digits | 1.99    |\n",
    "| char      | 1 byte       | Stores a single character/letter/number, or ASCII values                    | 'A'     |\n"
   ]
  },
  {
   "cell_type": "markdown",
   "id": "12755316",
   "metadata": {},
   "source": [
    "### Data types \n",
    "\n",
    "| Data Type | Value         | Format Specifier |\n",
    "|:-----------:|:---------------:|:------------------:|\n",
    "|Int        | 12, 45, -87   | %d               |\n",
    "|float      | 12.45, -87.00 | %f               |\n",
    "|char       | 'A', 'b', ' ' | %c               |\n",
    "|double     | 123.45678935, - 12345678890934   | %lf                |\n"
   ]
  },
  {
   "cell_type": "markdown",
   "id": "26562408",
   "metadata": {},
   "source": [
    "```c\n",
    "// declare a variable\n",
    "int num;\n",
    "\n",
    "// Assign a value to the variable\n",
    "num = 15\n",
    "```"
   ]
  },
  {
   "cell_type": "markdown",
   "id": "0bac485d",
   "metadata": {},
   "source": [
    "## C Data types Examples\n",
    "\n",
    "```c\n",
    "// create variables of different data types\n",
    "int items = 50;\n",
    "float cost_per_item = 9.99;\n",
    "float total_cost = items * cost_per_item;\n",
    "char currency = '$';\n",
    "\n",
    "// print variables\n",
    "\n",
    "printf(\"Number of items: %d/n\", items);\n",
    "printf(\"Cost per item: %.2f %c\\n\", cost_per_item, currency);\n",
    "printf(\"Total cost = %.2f %c\\n\", total_cost, currency);\n",
    "\n",
    "```\n",
    "\n",
    "### Output:\n",
    "\n",
    "```c\n",
    "Number of items 50\n",
    "Cost per item: 9.99 $\n",
    "Total cost = 499.50 $\n",
    "```"
   ]
  }
 ],
 "metadata": {
  "kernelspec": {
   "display_name": "Python 3",
   "language": "python",
   "name": "python3"
  },
  "language_info": {
   "codemirror_mode": {
    "name": "ipython",
    "version": 3
   },
   "file_extension": ".py",
   "mimetype": "text/x-python",
   "name": "python",
   "nbconvert_exporter": "python",
   "pygments_lexer": "ipython3",
   "version": "3.13.1"
  }
 },
 "nbformat": 4,
 "nbformat_minor": 5
}
